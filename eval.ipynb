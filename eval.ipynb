{
 "cells": [
  {
   "cell_type": "code",
   "execution_count": 1,
   "id": "ef5dd833",
   "metadata": {},
   "outputs": [
    {
     "name": "stdout",
     "output_type": "stream",
     "text": [
      "hello\n"
     ]
    }
   ],
   "source": [
    "# %% \n",
    "print('hello')"
   ]
  },
  {
   "cell_type": "code",
   "execution_count": 2,
   "id": "23c2093d",
   "metadata": {},
   "outputs": [
    {
     "ename": "TypeError",
     "evalue": "'type' object is not subscriptable",
     "output_type": "error",
     "traceback": [
      "\u001b[0;31m---------------------------------------------------------------------------\u001b[0m",
      "\u001b[0;31mTypeError\u001b[0m                                 Traceback (most recent call last)",
      "Cell \u001b[0;32mIn[2], line 31\u001b[0m\n\u001b[1;32m     29\u001b[0m \u001b[38;5;28;01mfrom\u001b[39;00m \u001b[38;5;21;01mIPython\u001b[39;00m\u001b[38;5;21;01m.\u001b[39;00m\u001b[38;5;21;01mdisplay\u001b[39;00m \u001b[38;5;28;01mimport\u001b[39;00m HTML\n\u001b[1;32m     30\u001b[0m \u001b[38;5;28;01mfrom\u001b[39;00m \u001b[38;5;21;01meval_helpers\u001b[39;00m \u001b[38;5;28;01mimport\u001b[39;00m \u001b[38;5;241m*\u001b[39m\n\u001b[0;32m---> 31\u001b[0m \u001b[38;5;28;01mfrom\u001b[39;00m \u001b[38;5;21;01mplot_helpers\u001b[39;00m \u001b[38;5;28;01mimport\u001b[39;00m \u001b[38;5;241m*\u001b[39m\n",
      "File \u001b[0;32m~/physicsbench/plot_helpers.py:162\u001b[0m\n\u001b[1;32m    155\u001b[0m         data \u001b[38;5;241m=\u001b[39m data\u001b[38;5;241m.\u001b[39msel(level\u001b[38;5;241m=\u001b[39mlevel)\n\u001b[1;32m    156\u001b[0m     \u001b[38;5;28;01mreturn\u001b[39;00m data\n\u001b[1;32m    158\u001b[0m \u001b[38;5;28;01mdef\u001b[39;00m \u001b[38;5;21mscale\u001b[39m(\n\u001b[1;32m    159\u001b[0m     data: xarray\u001b[38;5;241m.\u001b[39mDataArray,\n\u001b[1;32m    160\u001b[0m     center: Optional[\u001b[38;5;28mfloat\u001b[39m] \u001b[38;5;241m=\u001b[39m \u001b[38;5;28;01mNone\u001b[39;00m,\n\u001b[1;32m    161\u001b[0m     robust: \u001b[38;5;28mbool\u001b[39m \u001b[38;5;241m=\u001b[39m \u001b[38;5;28;01mFalse\u001b[39;00m,\n\u001b[0;32m--> 162\u001b[0m ) \u001b[38;5;241m-\u001b[39m\u001b[38;5;241m>\u001b[39m \u001b[38;5;28;43mtuple\u001b[39;49m\u001b[43m[\u001b[49m\u001b[43mxarray\u001b[49m\u001b[38;5;241;43m.\u001b[39;49m\u001b[43mDataArray\u001b[49m\u001b[43m,\u001b[49m\u001b[43m \u001b[49m\u001b[43mmatplotlib\u001b[49m\u001b[38;5;241;43m.\u001b[39;49m\u001b[43mcolors\u001b[49m\u001b[38;5;241;43m.\u001b[39;49m\u001b[43mNormalize\u001b[49m\u001b[43m,\u001b[49m\u001b[43m \u001b[49m\u001b[38;5;28;43mstr\u001b[39;49m\u001b[43m]\u001b[49m:\n\u001b[1;32m    163\u001b[0m     vmin \u001b[38;5;241m=\u001b[39m \u001b[38;5;28mfloat\u001b[39m(np\u001b[38;5;241m.\u001b[39mnanpercentile(data, (\u001b[38;5;241m2\u001b[39m \u001b[38;5;28;01mif\u001b[39;00m robust \u001b[38;5;28;01melse\u001b[39;00m \u001b[38;5;241m0\u001b[39m)))\n\u001b[1;32m    164\u001b[0m     vmax \u001b[38;5;241m=\u001b[39m \u001b[38;5;28mfloat\u001b[39m(np\u001b[38;5;241m.\u001b[39mnanpercentile(data, (\u001b[38;5;241m98\u001b[39m \u001b[38;5;28;01mif\u001b[39;00m robust \u001b[38;5;28;01melse\u001b[39;00m \u001b[38;5;241m100\u001b[39m)))\n",
      "\u001b[0;31mTypeError\u001b[0m: 'type' object is not subscriptable"
     ]
    }
   ],
   "source": [
    "# %%\n",
    "import dataclasses\n",
    "import datetime\n",
    "import functools\n",
    "import math\n",
    "import re\n",
    "from typing import Optional\n",
    "\n",
    "import cartopy.crs as ccrs\n",
    "from google.cloud import storage\n",
    "# from graphcast import autoregressive\n",
    "# from graphcast import casting\n",
    "# from graphcast import checkpoint\n",
    "# from graphcast import data_utils\n",
    "# from graphcast import graphcast\n",
    "# from graphcast import normalization\n",
    "# from graphcast import rollout\n",
    "# from graphcast import xarray_jax\n",
    "# from graphcast import xarray_tree\n",
    "from IPython.display import HTML\n",
    "# import haiku as hk\n",
    "import jax\n",
    "import matplotlib\n",
    "import matplotlib.pyplot as plt\n",
    "from matplotlib import animation\n",
    "import numpy as np\n",
    "import xarray as xr\n",
    "import xarray\n",
    "from IPython.display import HTML\n",
    "from eval_helpers import *\n",
    "from plot_helpers import *"
   ]
  },
  {
   "cell_type": "code",
   "execution_count": 5,
   "id": "932bbbae",
   "metadata": {},
   "outputs": [],
   "source": [
    "# %%\n",
    "Gzarr = xr.open_zarr('gs://weatherbench2/datasets/graphcast_hres_init/2020/date_range_2019-11-16_2021-02-01_12_hours_derived.zarr')\n",
    "gc_batch = Gzarr.sel(time='2020-08-27T12:00:00')\n",
    "gc_batch_subset = gc_batch.isel(prediction_timedelta=slice(0, 10))"
   ]
  },
  {
   "cell_type": "code",
   "execution_count": 4,
   "id": "7882b128",
   "metadata": {},
   "outputs": [
    {
     "name": "stdout",
     "output_type": "stream",
     "text": [
      "Collecting fsspec\n",
      "  Downloading fsspec-2025.3.0-py3-none-any.whl.metadata (11 kB)\n",
      "Downloading fsspec-2025.3.0-py3-none-any.whl (193 kB)\n",
      "\u001b[2K   \u001b[90m━━━━━━━━━━━━━━━━━━━━━━━━━━━━━━━━━━━━━━━━\u001b[0m \u001b[32m193.6/193.6 kB\u001b[0m \u001b[31m1.7 MB/s\u001b[0m eta \u001b[36m0:00:00\u001b[0m \u001b[36m0:00:01\u001b[0mm\n",
      "\u001b[?25hInstalling collected packages: fsspec\n",
      "Successfully installed fsspec-2025.3.0\n"
     ]
    }
   ],
   "source": [
    "!pip install fsspec"
   ]
  },
  {
   "cell_type": "code",
   "execution_count": 4,
   "id": "076eadeb",
   "metadata": {},
   "outputs": [
    {
     "name": "stdout",
     "output_type": "stream",
     "text": [
      "Collecting gcsfs\n",
      "  Downloading gcsfs-2024.10.0-py2.py3-none-any.whl.metadata (1.6 kB)\n",
      "Requirement already satisfied: aiohttp!=4.0.0a0,!=4.0.0a1 in /Users/howardqin2018/opt/anaconda3/lib/python3.8/site-packages (from gcsfs) (3.10.5)\n",
      "Requirement already satisfied: decorator>4.1.2 in /Users/howardqin2018/opt/anaconda3/lib/python3.8/site-packages (from gcsfs) (5.1.1)\n",
      "Collecting fsspec==2024.10.0 (from gcsfs)\n",
      "  Downloading fsspec-2024.10.0-py3-none-any.whl.metadata (11 kB)\n",
      "Requirement already satisfied: google-auth>=1.2 in /Users/howardqin2018/opt/anaconda3/lib/python3.8/site-packages (from gcsfs) (2.35.0)\n",
      "Collecting google-auth-oauthlib (from gcsfs)\n",
      "  Downloading google_auth_oauthlib-1.2.1-py2.py3-none-any.whl.metadata (2.7 kB)\n",
      "Requirement already satisfied: google-cloud-storage in /Users/howardqin2018/opt/anaconda3/lib/python3.8/site-packages (from gcsfs) (2.18.2)\n",
      "Requirement already satisfied: requests in /Users/howardqin2018/opt/anaconda3/lib/python3.8/site-packages (from gcsfs) (2.31.0)\n",
      "Requirement already satisfied: aiohappyeyeballs>=2.3.0 in /Users/howardqin2018/opt/anaconda3/lib/python3.8/site-packages (from aiohttp!=4.0.0a0,!=4.0.0a1->gcsfs) (2.4.3)\n",
      "Requirement already satisfied: aiosignal>=1.1.2 in /Users/howardqin2018/opt/anaconda3/lib/python3.8/site-packages (from aiohttp!=4.0.0a0,!=4.0.0a1->gcsfs) (1.3.1)\n",
      "Requirement already satisfied: attrs>=17.3.0 in /Users/howardqin2018/opt/anaconda3/lib/python3.8/site-packages (from aiohttp!=4.0.0a0,!=4.0.0a1->gcsfs) (23.1.0)\n",
      "Requirement already satisfied: frozenlist>=1.1.1 in /Users/howardqin2018/opt/anaconda3/lib/python3.8/site-packages (from aiohttp!=4.0.0a0,!=4.0.0a1->gcsfs) (1.4.1)\n",
      "Requirement already satisfied: multidict<7.0,>=4.5 in /Users/howardqin2018/opt/anaconda3/lib/python3.8/site-packages (from aiohttp!=4.0.0a0,!=4.0.0a1->gcsfs) (6.0.5)\n",
      "Requirement already satisfied: yarl<2.0,>=1.0 in /Users/howardqin2018/opt/anaconda3/lib/python3.8/site-packages (from aiohttp!=4.0.0a0,!=4.0.0a1->gcsfs) (1.9.4)\n",
      "Requirement already satisfied: async-timeout<5.0,>=4.0 in /Users/howardqin2018/opt/anaconda3/lib/python3.8/site-packages (from aiohttp!=4.0.0a0,!=4.0.0a1->gcsfs) (4.0.3)\n",
      "Requirement already satisfied: cachetools<6.0,>=2.0.0 in /Users/howardqin2018/opt/anaconda3/lib/python3.8/site-packages (from google-auth>=1.2->gcsfs) (5.5.0)\n",
      "Requirement already satisfied: pyasn1-modules>=0.2.1 in /Users/howardqin2018/opt/anaconda3/lib/python3.8/site-packages (from google-auth>=1.2->gcsfs) (0.4.1)\n",
      "Requirement already satisfied: rsa<5,>=3.1.4 in /Users/howardqin2018/opt/anaconda3/lib/python3.8/site-packages (from google-auth>=1.2->gcsfs) (4.9)\n",
      "Collecting requests-oauthlib>=0.7.0 (from google-auth-oauthlib->gcsfs)\n",
      "  Downloading requests_oauthlib-2.0.0-py2.py3-none-any.whl.metadata (11 kB)\n",
      "Requirement already satisfied: google-api-core<3.0.0dev,>=2.15.0 in /Users/howardqin2018/opt/anaconda3/lib/python3.8/site-packages (from google-cloud-storage->gcsfs) (2.22.0)\n",
      "Requirement already satisfied: google-cloud-core<3.0dev,>=2.3.0 in /Users/howardqin2018/opt/anaconda3/lib/python3.8/site-packages (from google-cloud-storage->gcsfs) (2.4.1)\n",
      "Requirement already satisfied: google-resumable-media>=2.7.2 in /Users/howardqin2018/opt/anaconda3/lib/python3.8/site-packages (from google-cloud-storage->gcsfs) (2.7.2)\n",
      "Requirement already satisfied: google-crc32c<2.0dev,>=1.0 in /Users/howardqin2018/opt/anaconda3/lib/python3.8/site-packages (from google-cloud-storage->gcsfs) (1.1.2)\n",
      "Requirement already satisfied: charset-normalizer<4,>=2 in /Users/howardqin2018/opt/anaconda3/lib/python3.8/site-packages (from requests->gcsfs) (2.0.4)\n",
      "Requirement already satisfied: idna<4,>=2.5 in /Users/howardqin2018/opt/anaconda3/lib/python3.8/site-packages (from requests->gcsfs) (3.7)\n",
      "Requirement already satisfied: urllib3<3,>=1.21.1 in /Users/howardqin2018/opt/anaconda3/lib/python3.8/site-packages (from requests->gcsfs) (2.2.1)\n",
      "Requirement already satisfied: certifi>=2017.4.17 in /Users/howardqin2018/opt/anaconda3/lib/python3.8/site-packages (from requests->gcsfs) (2024.8.30)\n",
      "Requirement already satisfied: googleapis-common-protos<2.0.dev0,>=1.56.2 in /Users/howardqin2018/opt/anaconda3/lib/python3.8/site-packages (from google-api-core<3.0.0dev,>=2.15.0->google-cloud-storage->gcsfs) (1.65.0)\n",
      "Requirement already satisfied: protobuf!=3.20.0,!=3.20.1,!=4.21.0,!=4.21.1,!=4.21.2,!=4.21.3,!=4.21.4,!=4.21.5,<6.0.0.dev0,>=3.19.5 in /Users/howardqin2018/opt/anaconda3/lib/python3.8/site-packages (from google-api-core<3.0.0dev,>=2.15.0->google-cloud-storage->gcsfs) (4.21.12)\n",
      "Requirement already satisfied: proto-plus<2.0.0dev,>=1.22.3 in /Users/howardqin2018/opt/anaconda3/lib/python3.8/site-packages (from google-api-core<3.0.0dev,>=2.15.0->google-cloud-storage->gcsfs) (1.25.0)\n",
      "Requirement already satisfied: cffi>=1.0.0 in /Users/howardqin2018/opt/anaconda3/lib/python3.8/site-packages (from google-crc32c<2.0dev,>=1.0->google-cloud-storage->gcsfs) (1.16.0)\n",
      "Requirement already satisfied: pyasn1<0.7.0,>=0.4.6 in /Users/howardqin2018/opt/anaconda3/lib/python3.8/site-packages (from pyasn1-modules>=0.2.1->google-auth>=1.2->gcsfs) (0.6.1)\n",
      "Collecting oauthlib>=3.0.0 (from requests-oauthlib>=0.7.0->google-auth-oauthlib->gcsfs)\n",
      "  Downloading oauthlib-3.2.2-py3-none-any.whl.metadata (7.5 kB)\n",
      "Requirement already satisfied: pycparser in /Users/howardqin2018/opt/anaconda3/lib/python3.8/site-packages (from cffi>=1.0.0->google-crc32c<2.0dev,>=1.0->google-cloud-storage->gcsfs) (2.21)\n",
      "Downloading gcsfs-2024.10.0-py2.py3-none-any.whl (34 kB)\n",
      "Downloading fsspec-2024.10.0-py3-none-any.whl (179 kB)\n",
      "\u001b[2K   \u001b[90m━━━━━━━━━━━━━━━━━━━━━━━━━━━━━━━━━━━━━━━━\u001b[0m \u001b[32m179.6/179.6 kB\u001b[0m \u001b[31m6.5 MB/s\u001b[0m eta \u001b[36m0:00:00\u001b[0m\n",
      "\u001b[?25hDownloading google_auth_oauthlib-1.2.1-py2.py3-none-any.whl (24 kB)\n",
      "Downloading requests_oauthlib-2.0.0-py2.py3-none-any.whl (24 kB)\n",
      "Downloading oauthlib-3.2.2-py3-none-any.whl (151 kB)\n",
      "\u001b[2K   \u001b[90m━━━━━━━━━━━━━━━━━━━━━━━━━━━━━━━━━━━━━━━━\u001b[0m \u001b[32m151.7/151.7 kB\u001b[0m \u001b[31m14.8 MB/s\u001b[0m eta \u001b[36m0:00:00\u001b[0m\n",
      "\u001b[?25hInstalling collected packages: oauthlib, fsspec, requests-oauthlib, google-auth-oauthlib, gcsfs\n",
      "  Attempting uninstall: fsspec\n",
      "    Found existing installation: fsspec 2025.3.0\n",
      "    Uninstalling fsspec-2025.3.0:\n",
      "      Successfully uninstalled fsspec-2025.3.0\n",
      "Successfully installed fsspec-2024.10.0 gcsfs-2024.10.0 google-auth-oauthlib-1.2.1 oauthlib-3.2.2 requests-oauthlib-2.0.0\n"
     ]
    }
   ],
   "source": [
    "!pip install gcsfs"
   ]
  },
  {
   "cell_type": "code",
   "execution_count": 6,
   "id": "49a836ef",
   "metadata": {},
   "outputs": [
    {
     "ename": "NameError",
     "evalue": "name 'gc_batch_subset' is not defined",
     "output_type": "error",
     "traceback": [
      "\u001b[0;31m---------------------------------------------------------------------------\u001b[0m",
      "\u001b[0;31mNameError\u001b[0m                                 Traceback (most recent call last)",
      "Cell \u001b[0;32mIn[6], line 12\u001b[0m\n\u001b[1;32m     10\u001b[0m plot_example_max_steps \u001b[38;5;241m=\u001b[39m \u001b[38;5;241m5\u001b[39m\n\u001b[1;32m     11\u001b[0m plot_example_robust \u001b[38;5;241m=\u001b[39m \u001b[38;5;28;01mTrue\u001b[39;00m\n\u001b[0;32m---> 12\u001b[0m input_dataset \u001b[38;5;241m=\u001b[39m \u001b[43mgc_batch_subset\u001b[49m\n\u001b[1;32m     13\u001b[0m is_era \u001b[38;5;241m=\u001b[39m \u001b[38;5;28;01mFalse\u001b[39;00m\n\u001b[1;32m     15\u001b[0m data \u001b[38;5;241m=\u001b[39m {\n\u001b[1;32m     16\u001b[0m     plot_example_variable: scale(\n\u001b[1;32m     17\u001b[0m         select(input_dataset, plot_example_variable, plot_example_level, plot_example_max_steps, is_era),\n\u001b[1;32m     18\u001b[0m         robust\u001b[38;5;241m=\u001b[39mplot_example_robust\n\u001b[1;32m     19\u001b[0m     ),\n\u001b[1;32m     20\u001b[0m }\n",
      "\u001b[0;31mNameError\u001b[0m: name 'gc_batch_subset' is not defined"
     ]
    }
   ],
   "source": [
    "# %%\n",
    "# create prediction_timedelta dim for era if need plot\n",
    "# era_batch_subset.coords['prediction_timedelta'] = era_batch_subset['time'].diff('time').astype('timedelta64[ns]')\n",
    "\n",
    "# %%\n",
    "\n",
    "plot_size = 7\n",
    "plot_example_variable = 'continuity_error'\n",
    "plot_example_level = 1000\n",
    "plot_example_max_steps = 5\n",
    "plot_example_robust = True\n",
    "input_dataset = gc_batch_subset\n",
    "is_era = False\n",
    "\n",
    "data = {\n",
    "    plot_example_variable: scale(\n",
    "        select(input_dataset, plot_example_variable, plot_example_level, plot_example_max_steps, is_era),\n",
    "        robust=plot_example_robust\n",
    "    ),\n",
    "}\n",
    "\n",
    "fig_title = plot_example_variable\n",
    "if \"level\" in input_dataset[plot_example_variable].coords:\n",
    "    fig_title += f\" at {plot_example_level} hPa\"\n",
    "\n",
    "plot_data(data, fig_title, plot_size, plot_example_robust, is_era=is_era)\n"
   ]
  }
 ],
 "metadata": {
  "kernelspec": {
   "display_name": "Python 3 (ipykernel)",
   "language": "python",
   "name": "python3"
  },
  "language_info": {
   "codemirror_mode": {
    "name": "ipython",
    "version": 3
   },
   "file_extension": ".py",
   "mimetype": "text/x-python",
   "name": "python",
   "nbconvert_exporter": "python",
   "pygments_lexer": "ipython3",
   "version": "3.8.20"
  }
 },
 "nbformat": 4,
 "nbformat_minor": 5
}
